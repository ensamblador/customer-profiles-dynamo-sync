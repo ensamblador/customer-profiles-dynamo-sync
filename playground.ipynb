{
 "cells": [
  {
   "cell_type": "code",
   "execution_count": 15,
   "metadata": {},
   "outputs": [],
   "source": [
    "import boto3\n",
    "domain_name = 'cxlatam'  # Replace with your Connect Customer Profiles domain name\n",
    "client = boto3.client('customer-profiles')"
   ]
  },
  {
   "cell_type": "code",
   "execution_count": null,
   "metadata": {},
   "outputs": [],
   "source": []
  },
  {
   "cell_type": "code",
   "execution_count": 31,
   "metadata": {},
   "outputs": [
    {
     "data": {
      "text/plain": [
       "{'ResponseMetadata': {'RequestId': '3b95d761-c578-43b8-a7e4-b91f328c891b',\n",
       "  'HTTPStatusCode': 200,\n",
       "  'HTTPHeaders': {'date': 'Thu, 19 Oct 2023 22:23:51 GMT',\n",
       "   'content-type': 'application/json',\n",
       "   'content-length': '29',\n",
       "   'connection': 'keep-alive',\n",
       "   'x-amzn-requestid': '3b95d761-c578-43b8-a7e4-b91f328c891b',\n",
       "   'access-control-allow-origin': '*',\n",
       "   'x-amz-apigw-id': 'NEfitH_poAMECEg=',\n",
       "   'x-amzn-trace-id': 'Root=1-6531ac77-6c481ce61c40b76a3781d1c1'},\n",
       "  'RetryAttempts': 0},\n",
       " 'Items': []}"
      ]
     },
     "execution_count": 31,
     "metadata": {},
     "output_type": "execute_result"
    }
   ],
   "source": [
    "client.search_profiles(\n",
    "    DomainName=domain_name,\n",
    "    KeyName='_profileId',\n",
    "    Values=['']\n",
    ")"
   ]
  },
  {
   "cell_type": "code",
   "execution_count": 19,
   "metadata": {},
   "outputs": [
    {
     "ename": "SyntaxError",
     "evalue": "invalid syntax. Maybe you meant '==' or ':=' instead of '='? (670336355.py, line 1)",
     "output_type": "error",
     "traceback": [
      "\u001b[0;36m  Cell \u001b[0;32mIn[19], line 1\u001b[0;36m\u001b[0m\n\u001b[0;31m    (DomainName=\"cxlatam\")\u001b[0m\n\u001b[0m     ^\u001b[0m\n\u001b[0;31mSyntaxError\u001b[0m\u001b[0;31m:\u001b[0m invalid syntax. Maybe you meant '==' or ':=' instead of '='?\n"
     ]
    }
   ],
   "source": []
  },
  {
   "cell_type": "code",
   "execution_count": null,
   "metadata": {},
   "outputs": [],
   "source": []
  }
 ],
 "metadata": {
  "kernelspec": {
   "display_name": ".venv",
   "language": "python",
   "name": "python3"
  },
  "language_info": {
   "codemirror_mode": {
    "name": "ipython",
    "version": 3
   },
   "file_extension": ".py",
   "mimetype": "text/x-python",
   "name": "python",
   "nbconvert_exporter": "python",
   "pygments_lexer": "ipython3",
   "version": "3.11.5"
  }
 },
 "nbformat": 4,
 "nbformat_minor": 2
}
